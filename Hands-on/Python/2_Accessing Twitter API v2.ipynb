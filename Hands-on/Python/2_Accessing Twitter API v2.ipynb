{
 "cells": [
  {
   "cell_type": "markdown",
   "metadata": {},
   "source": [
    "<span>\n",
    "<b>Author:</b> <a href=\"https://github.com/jisukimmmm\">Jisu Kim</a><br/>\n",
    "<b>Python version:</b>  >=3.6<br/>\n",
    "<b>Last update:</b> 28/03/2022\n",
    "</span>"
   ]
  },
  {
   "cell_type": "markdown",
   "metadata": {},
   "source": [
    "<a id='top'></a>\n",
    "# *Access to Twitter API - version 2*\n",
    "\n",
    "In this notebook, we will cover how to access Twitter API using the version 2 of Twitter API and discover some of the new features.\n",
    "\n"
   ]
  },
  {
   "cell_type": "code",
   "execution_count": 4,
   "metadata": {},
   "outputs": [],
   "source": [
    "import tweepy\n",
    "import time"
   ]
  },
  {
   "cell_type": "code",
   "execution_count": 77,
   "metadata": {},
   "outputs": [],
   "source": [
    "bearer_token=\"xxxx\" # Insert your breaer token\n",
    "client=tweepy.Client(bearer_token=bearer_token)"
   ]
  },
  {
   "cell_type": "markdown",
   "metadata": {},
   "source": [
    "    Query=\n",
    "        from: twitter user\n",
    "        -is : excluding retweets\n",
    "        place_country: country\n",
    "        has: e.g. media, geo, images\n",
    "        conversation_id: returns all tweets in the conversation thread with converation id. xxx\n",
    "        lang: en, kr, ch etc.\n",
    "        "
   ]
  },
  {
   "cell_type": "markdown",
   "metadata": {},
   "source": [
    "### Search for recent tweets that matches the query"
   ]
  },
  {
   "cell_type": "code",
   "execution_count": 6,
   "metadata": {},
   "outputs": [],
   "source": [
    "# Replace with your own search query\n",
    "query = 'migrant -is:retweet has:media place_country:US' "
   ]
  },
  {
   "cell_type": "markdown",
   "metadata": {},
   "source": [
    "You can specify \"tweet_fields\" that you wish to obtain: e.g., author_id, geo, lang, context_annotations etc. See here for more information: https://developer.twitter.com/en/docs/twitter-api/data-dictionary/object-model/tweet.\n",
    "By default, a request returns 10 Tweets. If you want to download more Tweets per request, use max_results parameter to specify that."
   ]
  },
  {
   "cell_type": "code",
   "execution_count": 11,
   "metadata": {},
   "outputs": [],
   "source": [
    "tweets = client.search_recent_tweets(query=query,  tweet_fields=['author_id', 'geo', 'lang','context_annotations'], max_results=10)"
   ]
  },
  {
   "cell_type": "markdown",
   "metadata": {},
   "source": [
    "To print out the data neatly:"
   ]
  },
  {
   "cell_type": "code",
   "execution_count": 27,
   "metadata": {
    "scrolled": true
   },
   "outputs": [
    {
     "name": "stdout",
     "output_type": "stream",
     "text": [
      "Author id: 844932007075500034\n",
      "Tweet text: @DocAtCDI @HeatherInAloha @jaeleesmall @Farbeka @MrsDocAtCDI @PatReardon11 @lorraine123456 @sammie9er Early integrated town Flint.\n",
      "Sanilac Counties (Croswell Lexington)main brag in \n",
      "1964 was not one \n",
      "African American\n",
      "(didn't use that discription)\n",
      "Lived in the county\n",
      "Although there were \n",
      "20000 Migrant workers \n",
      "There every summer picking \n",
      "Vegetables ,Sugar Beets \n",
      "And Cherries https://t.co/8xsCAXJRAz\n",
      "GEO: {'place_id': '1d9a5370a355ab0c'}\n",
      "Author id: 1000976030088290304\n",
      "Tweet text: I'm sharing a letter from our suburban newspaper. Our area is known internationally as a Birding Paradise. We have more migrant birds, rare birds, in our area. If you can do so, read this. The city is illegally listing properties for sale, in order to build a lithium factory! https://t.co/RhUmFOYyEK\n",
      "GEO: {'place_id': '71437095b23226a7'}\n",
      "Author id: 1562246683\n",
      "Tweet text: Happy #owloween… this is still one of my favorite #owl shots I’ve taken. A random GREAT HORNED OWL in the middle of the desert at  a migrant trap from October 2016—a shot made for #halloween  #utahbirds #owls #birdtours #greathornedowl https://t.co/eW4965wt7g\n",
      "GEO: {'place_id': '1879ace9e02ace61'}\n",
      "Author id: 817511219561136128\n",
      "Tweet text: #HalloweenParty 👻🎃✨❤️ \n",
      "#ThankYou! #Apicha #Team @apichachc for the support to @citgny we happy for this new alliance to continue connecting our #TransGNB #LGBTQI Latinxs community, migrant to medical services and especially that they can access vaccination for #COVID19. https://t.co/GkvsHZTwNY\n",
      "GEO: {'place_id': 'c47c0bc571bf5427'}\n",
      "Author id: 346781925\n",
      "Tweet text: BREAKING: The Migrant Caravan was offered a deal by @INAMI_mx to give work visas to women and children if they stop but organizers say they have rejected the offer and will walk thru the night… @FoxNews #BorderCrisis https://t.co/04zH2i5ZZt\n",
      "GEO: {'place_id': '01fbe706f872cb32'}\n",
      "Author id: 629644906\n",
      "Tweet text: In my 22 years as a nurse, I have worked with migrant families in SW Michigan, @USNavy, worked in translation services, been a RN at the bedside with @emoryhealthcare, worked as a NP @childrensatl and nursing professor with @EmoryNursing @JNJNursing #nursetwitter https://t.co/jt1FaUd5yZ https://t.co/sSCTxnSalP\n",
      "GEO: {'place_id': '8173485c72e78ca5'}\n",
      "Author id: 1131586940980084741\n",
      "Tweet text: Our Migrant Elementary Advocate participating in the @HLJJaguars Character Parade. She found Frida! https://t.co/fJBwUUBFUD\n",
      "GEO: {'place_id': '4de072969805ac41'}\n",
      "Author id: 1131586940980084741\n",
      "Tweet text: Another successful Migrant Parent Involvement Night about high school graduation requirements (in 3 languages). Proud of the team and all the parents that participated in the discussions #migranteducation @EsolPbc @PBCSDEspanol https://t.co/wUnRfl79ky\n",
      "GEO: {'place_id': '4de072969805ac41'}\n"
     ]
    }
   ],
   "source": [
    "for tweet in tweets.data:\n",
    "    print('Author id:', tweet.author_id)\n",
    "    print('Tweet text:', tweet.text)\n",
    "    print('GEO:', tweet.geo)"
   ]
  },
  {
   "cell_type": "markdown",
   "metadata": {},
   "source": [
    "Or to see one tweet at a time, specify the position of the data in the \"tweets\" variable. e.g.,:"
   ]
  },
  {
   "cell_type": "code",
   "execution_count": 29,
   "metadata": {},
   "outputs": [
    {
     "name": "stdout",
     "output_type": "stream",
     "text": [
      "Author id: 1562246683\n",
      "Tweet text: Happy #owloween… this is still one of my favorite #owl shots I’ve taken. A random GREAT HORNED OWL in the middle of the desert at  a migrant trap from October 2016—a shot made for #halloween  #utahbirds #owls #birdtours #greathornedowl https://t.co/eW4965wt7g\n",
      "GEO: {'place_id': '1879ace9e02ace61'}\n"
     ]
    }
   ],
   "source": [
    "for tweet in tweets.data[2:3]:\n",
    "    print('Author id:', tweet.author_id)\n",
    "    print('Tweet text:', tweet.text)\n",
    "    print('GEO:', tweet.geo)"
   ]
  },
  {
   "cell_type": "markdown",
   "metadata": {},
   "source": [
    "### Get tweets of a specific user"
   ]
  },
  {
   "cell_type": "code",
   "execution_count": 67,
   "metadata": {
    "scrolled": true
   },
   "outputs": [
    {
     "name": "stdout",
     "output_type": "stream",
     "text": [
      "Tweet text: ✋ Lastly, have a hand in the design of the Twitter API v2 with our new open evolution workflow.\n",
      "\n",
      "https://t.co/i734aV500N\n",
      "GEO: None\n",
      "Public metrics: {'retweet_count': 1, 'reply_count': 0, 'like_count': 9, 'quote_count': 0}\n",
      "Conversation ID: 1456337866347343883\n",
      "Tweet text: 🛠️ We continue to build OAuth 2.0 in the open. Thank you to everyone who has built and tested with us so far. \n",
      "\n",
      "https://t.co/l9JOMVm9Ux\n",
      "GEO: None\n",
      "Public metrics: {'retweet_count': 1, 'reply_count': 1, 'like_count': 10, 'quote_count': 0}\n",
      "Conversation ID: 1456337866347343883\n",
      "Tweet text: 📊 If you store large amounts of Twitter data, the new batch compliance endpoints can help you keep your datasets compliant with the Twitter Developer Agreement and Policy.\n",
      "\n",
      "https://t.co/BQ1EYl9H9u\n",
      "GEO: None\n",
      "Public metrics: {'retweet_count': 1, 'reply_count': 1, 'like_count': 0, 'quote_count': 0}\n",
      "Conversation ID: 1456337866347343883\n",
      "Tweet text: 🎧 Build for peace and quiet. The mutes endpoints are now fully available on v2. \n",
      "\n",
      "https://t.co/Z7PUskP6Ff\n",
      "GEO: None\n",
      "Public metrics: {'retweet_count': 0, 'reply_count': 1, 'like_count': 0, 'quote_count': 0}\n",
      "Conversation ID: 1456337866347343883\n",
      "Tweet text: 🚀 Help shape the future of Twitter Spaces with the new Spaces endpoints on the Twitter API v2.\n",
      "\n",
      "https://t.co/LGeV67ufJZ\n",
      "GEO: None\n",
      "Public metrics: {'retweet_count': 0, 'reply_count': 1, 'like_count': 0, 'quote_count': 0}\n",
      "Conversation ID: 1456337866347343883\n",
      "Tweet text: 📃 New v2 manage Lists endpoints help you create more customized, curated, and organized Tweets. Plus, there are brand new endpoints for pinning and unpinning Lists. \n",
      "\n",
      "https://t.co/VNLNMLewVP\n",
      "GEO: None\n",
      "Public metrics: {'retweet_count': 0, 'reply_count': 1, 'like_count': 0, 'quote_count': 0}\n",
      "Conversation ID: 1456337866347343883\n",
      "Tweet text: 🗣️Yesterday we shipped the manage Tweets endpoints. You won't want to miss the new endpoint functionality, only available on v2. \n",
      "\n",
      "https://t.co/w6Tzb8JlJz\n",
      "GEO: None\n",
      "Public metrics: {'retweet_count': 0, 'reply_count': 1, 'like_count': 0, 'quote_count': 0}\n",
      "Conversation ID: 1456337866347343883\n",
      "Tweet text: The year is beginning to wind down, but the Twitter API v2 continues to move forward like never before. \n",
      "\n",
      "Read on to catch up on the last couple months of progress on the #TwitterAPI 🧵\n",
      "https://t.co/Xijy1fcZ64\n",
      "GEO: None\n",
      "Public metrics: {'retweet_count': 3, 'reply_count': 2, 'like_count': 33, 'quote_count': 0}\n",
      "Conversation ID: 1456337866347343883\n",
      "Tweet text: Tune in this afternoon at 12:00 PT to hear more about the manage Tweets endpoints.\n",
      "\n",
      "https://t.co/7MnU6DmOKJ\n",
      "GEO: None\n",
      "Public metrics: {'retweet_count': 4, 'reply_count': 1, 'like_count': 28, 'quote_count': 0}\n",
      "Conversation ID: 1455953449422516226\n",
      "Tweet text: You can even generate new revenue streams by Tweeting to Super Followers. Don’t worry, you’ll never have to pay to follow us 😃\n",
      "https://t.co/hbvOQ8MOPW\n",
      "GEO: None\n",
      "Public metrics: {'retweet_count': 3, 'reply_count': 1, 'like_count': 35, 'quote_count': 0}\n",
      "Conversation ID: 1455953449422516226\n"
     ]
    }
   ],
   "source": [
    "tweets2=client.get_users_tweets(id='2244994945', tweet_fields=['author_id', 'geo', 'lang','public_metrics', 'conversation_id'], max_results=10) \n",
    "\n",
    "for tweet in tweets2.data:\n",
    "    print('Tweet text:', tweet.text)\n",
    "    print('GEO:', tweet.geo)\n",
    "    print('Public metrics:', tweet.public_metrics)\n",
    "    print('Conversation ID:', tweet.conversation_id)"
   ]
  },
  {
   "cell_type": "markdown",
   "metadata": {},
   "source": [
    "### Get users that retweeted a tweet"
   ]
  },
  {
   "cell_type": "code",
   "execution_count": 78,
   "metadata": {},
   "outputs": [
    {
     "name": "stdout",
     "output_type": "stream",
     "text": [
      "User Id: AnushanDev\n",
      "User Id: jackgirlfriend2\n",
      "User Id: ShattabaTaufic\n"
     ]
    }
   ],
   "source": [
    "users = client.get_retweeters(id='1456337866347343883', user_fields=['profile_image_url'])\n",
    "\n",
    "for user in users.data:\n",
    "    print('User Id:', user)"
   ]
  },
  {
   "cell_type": "markdown",
   "metadata": {},
   "source": [
    "### Get user information using user ID"
   ]
  },
  {
   "cell_type": "code",
   "execution_count": 73,
   "metadata": {},
   "outputs": [
    {
     "name": "stdout",
     "output_type": "stream",
     "text": [
      "Profile image: https://pbs.twimg.com/profile_images/1445764922474827784/W2zEPN7U_normal.jpg\n",
      "Username: TwitterDev\n",
      "Description The voice of the #TwitterDev team and your official source for updates, news, and events, related to the #TwitterAPI.\n"
     ]
    }
   ],
   "source": [
    "users = client.get_users(ids='2244994945', user_fields=['profile_image_url','username', 'description'])\n",
    "\n",
    "for user in users.data:\n",
    "    print('Profile image:', user.profile_image_url)\n",
    "    print('Username:', user.username)\n",
    "    print('Description', user.description)"
   ]
  },
  {
   "cell_type": "markdown",
   "metadata": {},
   "source": [
    "### Get a list of friends and followers"
   ]
  },
  {
   "cell_type": "code",
   "execution_count": 70,
   "metadata": {},
   "outputs": [
    {
     "name": "stdout",
     "output_type": "stream",
     "text": [
      "friend 15772978\n",
      "friend 4839528448\n",
      "friend 25029451\n",
      "friend 1009484430250053632\n",
      "friend 108209516\n",
      "follower 1171720270840762369\n",
      "follower 951678410\n",
      "follower 1908229255\n",
      "follower 562145707\n",
      "follower 1097428450024017921\n"
     ]
    }
   ],
   "source": [
    "friends=client.get_users_following(id=\"2244994945\", user_fields=['profile_image_url'])\n",
    "for user in friends.data[:5]: #print up to 5 friends\n",
    "    print(\"friend\", user.id)\n",
    "    \n",
    "followers=client.get_users_followers(id=\"2244994945\", user_fields=['profile_image_url'])\n",
    "for user in followers.data[:5]: #print up to 5 followers\n",
    "    print(\"follower\", user.id)"
   ]
  },
  {
   "cell_type": "code",
   "execution_count": null,
   "metadata": {},
   "outputs": [],
   "source": []
  }
 ],
 "metadata": {
  "kernelspec": {
   "display_name": "Python 3",
   "language": "python",
   "name": "python3"
  },
  "language_info": {
   "codemirror_mode": {
    "name": "ipython",
    "version": 3
   },
   "file_extension": ".py",
   "mimetype": "text/x-python",
   "name": "python",
   "nbconvert_exporter": "python",
   "pygments_lexer": "ipython3",
   "version": "3.6.4"
  }
 },
 "nbformat": 4,
 "nbformat_minor": 2
}
